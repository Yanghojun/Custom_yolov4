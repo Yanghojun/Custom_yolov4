{
 "cells": [
  {
   "cell_type": "code",
   "execution_count": 47,
   "metadata": {},
   "outputs": [],
   "source": [
    "import os"
   ]
  },
  {
   "cell_type": "code",
   "execution_count": 51,
   "metadata": {},
   "outputs": [],
   "source": [
    "\r\n",
    "\r\n",
    "def make_new_txt(file_path):\r\n",
    "    file_num_dict = {}\r\n",
    "    count = 0\r\n",
    "    new_text_content=''\r\n",
    "    jpg_path = 'C:\\\\Users\\\\hojun_window\\\\Desktop\\\\Work\\\\농진청\\\\2차년도\\\\pytorch-YOLOv4\\\\valid\\\\'\r\n",
    "    jpg_names = os.listdir('./valid')\r\n",
    "    jpg_names.remove('val.txt')       # 아놔 그냥 이렇게해서 골라서 리스트에서 제거 가능하네\r\n",
    "    jpg_names.remove('_classes.txt')\r\n",
    "\r\n",
    "    with open(file_path) as f:\r\n",
    "        while True:\r\n",
    "            line = f.readline()\r\n",
    "            if not line:\r\n",
    "                break\r\n",
    "            \r\n",
    "            filename = line.split()[0]\r\n",
    "            new_text_content += line.replace(filename, str(count) + '.jpg')\r\n",
    "            os.rename(jpg_path + filename, jpg_path + str(count) + '.jpg')\r\n",
    "            count+=1\r\n",
    "            \r\n",
    "    with open(file_path, 'w') as f:\r\n",
    "        f.write(new_text_content)"
   ]
  },
  {
   "cell_type": "code",
   "execution_count": 52,
   "metadata": {},
   "outputs": [],
   "source": [
    "make_new_txt('./valid/val.txt')"
   ]
  },
  {
   "cell_type": "code",
   "execution_count": null,
   "metadata": {},
   "outputs": [],
   "source": []
  }
 ],
 "metadata": {
  "interpreter": {
   "hash": "c00059c7cf71ff66181a0f3eda2239fd74bcbc3949d0e7ec5324e4912d41725a"
  },
  "kernelspec": {
   "display_name": "Python 3.7.10 64-bit ('yolov4': conda)",
   "name": "python3"
  },
  "language_info": {
   "codemirror_mode": {
    "name": "ipython",
    "version": 3
   },
   "file_extension": ".py",
   "mimetype": "text/x-python",
   "name": "python",
   "nbconvert_exporter": "python",
   "pygments_lexer": "ipython3",
   "version": "3.7.10"
  },
  "orig_nbformat": 4
 },
 "nbformat": 4,
 "nbformat_minor": 2
}